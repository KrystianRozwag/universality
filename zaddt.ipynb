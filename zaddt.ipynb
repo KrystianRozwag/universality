{
  "nbformat": 4,
  "nbformat_minor": 0,
  "metadata": {
    "colab": {
      "name": "zaddt.ipynb",
      "provenance": [],
      "collapsed_sections": [],
      "mount_file_id": "1MSf-Ud0R2uSs0XG31HQJCXPlAtW6Ndvn",
      "authorship_tag": "ABX9TyN8EFu1mQxnPmH3kDU2WJ1y"
    },
    "kernelspec": {
      "name": "python3",
      "display_name": "Python 3"
    }
  },
  "cells": [
    {
      "cell_type": "code",
      "metadata": {
        "id": "vwFxlu6TD73_",
        "colab_type": "code",
        "outputId": "6bc0bc13-3a58-4f5c-fee9-ad0e6804337f",
        "colab": {
          "base_uri": "https://localhost:8080/",
          "height": 419
        }
      },
      "source": [
        "import pandas as pd\n",
        "import dateutil\n",
        "\n",
        "# Load data from csv file\n",
        "data = pd.read_csv('./phone_data.csv')\n",
        "df = pd.DataFrame(data)\n",
        "# Convert date from string to date times\n",
        "data['date'] = data['date'].apply(dateutil.parser.parse, dayfirst=True)\n",
        "data"
      ],
      "execution_count": 109,
      "outputs": [
        {
          "output_type": "execute_result",
          "data": {
            "text/html": [
              "<div>\n",
              "<style scoped>\n",
              "    .dataframe tbody tr th:only-of-type {\n",
              "        vertical-align: middle;\n",
              "    }\n",
              "\n",
              "    .dataframe tbody tr th {\n",
              "        vertical-align: top;\n",
              "    }\n",
              "\n",
              "    .dataframe thead th {\n",
              "        text-align: right;\n",
              "    }\n",
              "</style>\n",
              "<table border=\"1\" class=\"dataframe\">\n",
              "  <thead>\n",
              "    <tr style=\"text-align: right;\">\n",
              "      <th></th>\n",
              "      <th>index</th>\n",
              "      <th>date</th>\n",
              "      <th>duration</th>\n",
              "      <th>item</th>\n",
              "      <th>month</th>\n",
              "      <th>network</th>\n",
              "      <th>network_type</th>\n",
              "    </tr>\n",
              "  </thead>\n",
              "  <tbody>\n",
              "    <tr>\n",
              "      <th>0</th>\n",
              "      <td>0</td>\n",
              "      <td>2014-10-15 06:58:00</td>\n",
              "      <td>34.429</td>\n",
              "      <td>data</td>\n",
              "      <td>2014-11</td>\n",
              "      <td>data</td>\n",
              "      <td>data</td>\n",
              "    </tr>\n",
              "    <tr>\n",
              "      <th>1</th>\n",
              "      <td>1</td>\n",
              "      <td>2014-10-15 06:58:00</td>\n",
              "      <td>13.000</td>\n",
              "      <td>call</td>\n",
              "      <td>2014-11</td>\n",
              "      <td>Vodafone</td>\n",
              "      <td>mobile</td>\n",
              "    </tr>\n",
              "    <tr>\n",
              "      <th>2</th>\n",
              "      <td>2</td>\n",
              "      <td>2014-10-15 14:46:00</td>\n",
              "      <td>23.000</td>\n",
              "      <td>call</td>\n",
              "      <td>2014-11</td>\n",
              "      <td>Meteor</td>\n",
              "      <td>mobile</td>\n",
              "    </tr>\n",
              "    <tr>\n",
              "      <th>3</th>\n",
              "      <td>3</td>\n",
              "      <td>2014-10-15 14:48:00</td>\n",
              "      <td>4.000</td>\n",
              "      <td>call</td>\n",
              "      <td>2014-11</td>\n",
              "      <td>Tesco</td>\n",
              "      <td>mobile</td>\n",
              "    </tr>\n",
              "    <tr>\n",
              "      <th>4</th>\n",
              "      <td>4</td>\n",
              "      <td>2014-10-15 17:27:00</td>\n",
              "      <td>4.000</td>\n",
              "      <td>call</td>\n",
              "      <td>2014-11</td>\n",
              "      <td>Tesco</td>\n",
              "      <td>mobile</td>\n",
              "    </tr>\n",
              "    <tr>\n",
              "      <th>...</th>\n",
              "      <td>...</td>\n",
              "      <td>...</td>\n",
              "      <td>...</td>\n",
              "      <td>...</td>\n",
              "      <td>...</td>\n",
              "      <td>...</td>\n",
              "      <td>...</td>\n",
              "    </tr>\n",
              "    <tr>\n",
              "      <th>825</th>\n",
              "      <td>825</td>\n",
              "      <td>2015-03-13 00:38:00</td>\n",
              "      <td>1.000</td>\n",
              "      <td>sms</td>\n",
              "      <td>2015-03</td>\n",
              "      <td>world</td>\n",
              "      <td>world</td>\n",
              "    </tr>\n",
              "    <tr>\n",
              "      <th>826</th>\n",
              "      <td>826</td>\n",
              "      <td>2015-03-13 00:39:00</td>\n",
              "      <td>1.000</td>\n",
              "      <td>sms</td>\n",
              "      <td>2015-03</td>\n",
              "      <td>Vodafone</td>\n",
              "      <td>mobile</td>\n",
              "    </tr>\n",
              "    <tr>\n",
              "      <th>827</th>\n",
              "      <td>827</td>\n",
              "      <td>2015-03-13 06:58:00</td>\n",
              "      <td>34.429</td>\n",
              "      <td>data</td>\n",
              "      <td>2015-03</td>\n",
              "      <td>data</td>\n",
              "      <td>data</td>\n",
              "    </tr>\n",
              "    <tr>\n",
              "      <th>828</th>\n",
              "      <td>828</td>\n",
              "      <td>2015-03-14 00:13:00</td>\n",
              "      <td>1.000</td>\n",
              "      <td>sms</td>\n",
              "      <td>2015-03</td>\n",
              "      <td>world</td>\n",
              "      <td>world</td>\n",
              "    </tr>\n",
              "    <tr>\n",
              "      <th>829</th>\n",
              "      <td>829</td>\n",
              "      <td>2015-03-14 00:16:00</td>\n",
              "      <td>1.000</td>\n",
              "      <td>sms</td>\n",
              "      <td>2015-03</td>\n",
              "      <td>world</td>\n",
              "      <td>world</td>\n",
              "    </tr>\n",
              "  </tbody>\n",
              "</table>\n",
              "<p>830 rows × 7 columns</p>\n",
              "</div>"
            ],
            "text/plain": [
              "     index                date  duration  item    month   network network_type\n",
              "0        0 2014-10-15 06:58:00    34.429  data  2014-11      data         data\n",
              "1        1 2014-10-15 06:58:00    13.000  call  2014-11  Vodafone       mobile\n",
              "2        2 2014-10-15 14:46:00    23.000  call  2014-11    Meteor       mobile\n",
              "3        3 2014-10-15 14:48:00     4.000  call  2014-11     Tesco       mobile\n",
              "4        4 2014-10-15 17:27:00     4.000  call  2014-11     Tesco       mobile\n",
              "..     ...                 ...       ...   ...      ...       ...          ...\n",
              "825    825 2015-03-13 00:38:00     1.000   sms  2015-03     world        world\n",
              "826    826 2015-03-13 00:39:00     1.000   sms  2015-03  Vodafone       mobile\n",
              "827    827 2015-03-13 06:58:00    34.429  data  2015-03      data         data\n",
              "828    828 2015-03-14 00:13:00     1.000   sms  2015-03     world        world\n",
              "829    829 2015-03-14 00:16:00     1.000   sms  2015-03     world        world\n",
              "\n",
              "[830 rows x 7 columns]"
            ]
          },
          "metadata": {
            "tags": []
          },
          "execution_count": 109
        }
      ]
    },
    {
      "cell_type": "code",
      "metadata": {
        "id": "9ck93t2_E1yP",
        "colab_type": "code",
        "outputId": "8152872f-5fb5-4668-900e-b5e758c83564",
        "colab": {
          "base_uri": "https://localhost:8080/",
          "height": 34
        }
      },
      "source": [
        "print(\"1.Rows of data variable\",len(data) + 1)"
      ],
      "execution_count": 89,
      "outputs": [
        {
          "output_type": "stream",
          "text": [
            "1.Rows of data variable 831\n"
          ],
          "name": "stdout"
        }
      ]
    },
    {
      "cell_type": "code",
      "metadata": {
        "id": "RUXnkeXXPPPn",
        "colab_type": "code",
        "outputId": "d24ee53c-14da-41bd-c84d-b989dcbfd791",
        "colab": {
          "base_uri": "https://localhost:8080/",
          "height": 34
        }
      },
      "source": [
        "call = df.loc[df['item'] == \"call\"]\n",
        "print(\"2.The duration of the longest call \",max(call['duration']))"
      ],
      "execution_count": 88,
      "outputs": [
        {
          "output_type": "stream",
          "text": [
            "2.The duration of the longest call  10528.0\n"
          ],
          "name": "stdout"
        }
      ]
    },
    {
      "cell_type": "code",
      "metadata": {
        "id": "VRxGvLFzT-qw",
        "colab_type": "code",
        "colab": {
          "base_uri": "https://localhost:8080/",
          "height": 170
        },
        "outputId": "1ea9bc1f-da04-423c-dd00-dda572718370"
      },
      "source": [
        "print(\"4. The total duration of calls of each month: \",end=\"\\n\\n\")\n",
        "call.groupby(['month'])['duration'].sum()\n"
      ],
      "execution_count": 87,
      "outputs": [
        {
          "output_type": "stream",
          "text": [
            "The total duration of calls of each month: \n",
            "\n"
          ],
          "name": "stdout"
        },
        {
          "output_type": "execute_result",
          "data": {
            "text/plain": [
              "month\n",
              "2014-11    25547.0\n",
              "2014-12    13561.0\n",
              "2015-01    17070.0\n",
              "2015-02    14416.0\n",
              "2015-03    21727.0\n",
              "Name: duration, dtype: float64"
            ]
          },
          "metadata": {
            "tags": []
          },
          "execution_count": 87
        }
      ]
    },
    {
      "cell_type": "code",
      "metadata": {
        "id": "dE2oRXgw3XJ1",
        "colab_type": "code",
        "colab": {
          "base_uri": "https://localhost:8080/",
          "height": 187
        },
        "outputId": "e06855f4-4086-4d38-fdf2-00f8ced705cb"
      },
      "source": [
        "print(\"5. Total duration of the calls to each network: \",end=\"\\n\\n\")\n",
        "call.groupby(['network'])['duration'].sum()"
      ],
      "execution_count": 86,
      "outputs": [
        {
          "output_type": "stream",
          "text": [
            "Total duration of the calls to each network: \n",
            "\n"
          ],
          "name": "stdout"
        },
        {
          "output_type": "execute_result",
          "data": {
            "text/plain": [
              "network\n",
              "Meteor        7200.0\n",
              "Tesco        13828.0\n",
              "Three        36464.0\n",
              "Vodafone     14621.0\n",
              "landline     18433.0\n",
              "voicemail     1775.0\n",
              "Name: duration, dtype: float64"
            ]
          },
          "metadata": {
            "tags": []
          },
          "execution_count": 86
        }
      ]
    },
    {
      "cell_type": "markdown",
      "metadata": {
        "id": "SQtuuP6dKvAL",
        "colab_type": "text"
      },
      "source": [
        ""
      ]
    },
    {
      "cell_type": "code",
      "metadata": {
        "id": "XfMbsX8i3lkq",
        "colab_type": "code",
        "colab": {
          "base_uri": "https://localhost:8080/",
          "height": 459
        },
        "outputId": "6870c8dd-af2f-48bf-c61c-79f0671bd163"
      },
      "source": [
        "print(\"6. Calls (call), SMSs (sms) and records (data) there were each month: \")\n",
        "for name,group in df.groupby(['month']):\n",
        "  print(name)\n",
        "  print(group['item'].value_counts())"
      ],
      "execution_count": 111,
      "outputs": [
        {
          "output_type": "stream",
          "text": [
            "6. Calls (call), SMSs (sms) and records (data) there were each month: \n",
            "2014-11\n",
            "call    107\n",
            "sms      94\n",
            "data     29\n",
            "Name: item, dtype: int64\n",
            "2014-12\n",
            "call    79\n",
            "sms     48\n",
            "data    30\n",
            "Name: item, dtype: int64\n",
            "2015-01\n",
            "call    88\n",
            "sms     86\n",
            "data    31\n",
            "Name: item, dtype: int64\n",
            "2015-02\n",
            "call    67\n",
            "sms     39\n",
            "data    31\n",
            "Name: item, dtype: int64\n",
            "2015-03\n",
            "call    47\n",
            "data    29\n",
            "sms     25\n",
            "Name: item, dtype: int64\n"
          ],
          "name": "stdout"
        }
      ]
    },
    {
      "cell_type": "code",
      "metadata": {
        "id": "YwchKjKm6tzx",
        "colab_type": "code",
        "colab": {
          "base_uri": "https://localhost:8080/",
          "height": 595
        },
        "outputId": "08eceebd-4817-4fee-90ec-ff3e8556a6c3"
      },
      "source": [
        "print(\"Total duration of the calls: \",call['duration'].sum())\n",
        "print(\"Average durations of the calls: \",call['duration'].mean())\n",
        "print(\"Number of connections: \",call['duration'].count(),end=\"\\n\\n\")\n",
        "\n",
        "for name,group in call.groupby(['month']):\n",
        "  print(\"Month: \",name,end=\"\\n\\n\")\n",
        "  print(\"First date in month column:\", group['date'].min())\n",
        "  print(\"Last date in month column: \",group['date'].max())\n",
        "  df['A'] = group['date'].min()\n",
        "  df['B'] = group['date'].max()\n",
        "  df['C'] = df['B'] - df['A']\n",
        "  print(\"Difference between first and last date: \",df['C'][0],end=\"\\n\\n\")"
      ],
      "execution_count": 81,
      "outputs": [
        {
          "output_type": "stream",
          "text": [
            "Total duration of the calls:  92321.0\n",
            "Average durations of the calls:  237.94072164948454\n",
            "Number of connections:  388\n",
            "\n",
            "Month:  2014-11\n",
            "\n",
            "First date in month column: 2014-10-15 06:58:00\n",
            "Last date in month column:  2014-11-12 19:01:00\n",
            "Difference between first and last date:  28 days 12:03:00\n",
            "\n",
            "Month:  2014-12\n",
            "\n",
            "First date in month column: 2014-11-14 17:24:00\n",
            "Last date in month column:  2014-12-14 19:54:00\n",
            "Difference between first and last date:  30 days 02:30:00\n",
            "\n",
            "Month:  2015-01\n",
            "\n",
            "First date in month column: 2014-12-15 20:03:00\n",
            "Last date in month column:  2015-01-14 20:47:00\n",
            "Difference between first and last date:  30 days 00:44:00\n",
            "\n",
            "Month:  2015-02\n",
            "\n",
            "First date in month column: 2015-01-15 10:36:00\n",
            "Last date in month column:  2015-02-09 17:54:00\n",
            "Difference between first and last date:  25 days 07:18:00\n",
            "\n",
            "Month:  2015-03\n",
            "\n",
            "First date in month column: 2015-02-12 20:15:00\n",
            "Last date in month column:  2015-03-04 12:29:00\n",
            "Difference between first and last date:  19 days 16:14:00\n",
            "\n"
          ],
          "name": "stdout"
        }
      ]
    }
  ]
}